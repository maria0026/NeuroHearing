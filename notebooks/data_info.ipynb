{
 "cells": [
  {
   "cell_type": "code",
   "execution_count": 1,
   "id": "60b21bb2",
   "metadata": {},
   "outputs": [],
   "source": [
    "import pandas as pd"
   ]
  },
  {
   "cell_type": "code",
   "execution_count": 5,
   "id": "cf5221f0",
   "metadata": {},
   "outputs": [],
   "source": [
    "df_tonal = pd.read_csv('data/audiometry_tonal.csv', sep=None, engine='python', dtype={\"PESEL\": str})"
   ]
  },
  {
   "cell_type": "code",
   "execution_count": 6,
   "id": "6226dd93",
   "metadata": {},
   "outputs": [
    {
     "data": {
      "text/plain": [
       "0       00221103502\n",
       "1       00221103502\n",
       "2       00221103502\n",
       "3       00221103502\n",
       "4       00221103502\n",
       "           ...     \n",
       "1936    99080404431\n",
       "1937    99080404431\n",
       "1938    99080404431\n",
       "1939    99080404431\n",
       "1940    99080404431\n",
       "Name: PESEL, Length: 1941, dtype: object"
      ]
     },
     "execution_count": 6,
     "metadata": {},
     "output_type": "execute_result"
    }
   ],
   "source": [
    "df_tonal['PESEL']"
   ]
  }
 ],
 "metadata": {
  "kernelspec": {
   "display_name": ".venv",
   "language": "python",
   "name": "python3"
  },
  "language_info": {
   "codemirror_mode": {
    "name": "ipython",
    "version": 3
   },
   "file_extension": ".py",
   "mimetype": "text/x-python",
   "name": "python",
   "nbconvert_exporter": "python",
   "pygments_lexer": "ipython3",
   "version": "3.12.3"
  }
 },
 "nbformat": 4,
 "nbformat_minor": 5
}
